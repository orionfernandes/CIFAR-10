{
 "cells": [
  {
   "cell_type": "code",
   "execution_count": 1,
   "id": "b5dd484f",
   "metadata": {},
   "outputs": [],
   "source": [
    "from tensorflow.keras import datasets, layers, models\n",
    "from tensorflow.keras.optimizers import Adam\n",
    "from keras.callbacks import CSVLogger, ModelCheckpoint\n",
    "from keras.models import load_model\n",
    "import tensorflow as tf\n",
    "import matplotlib.pyplot as plt\n",
    "import numpy as np\n",
    "import pickle"
   ]
  },
  {
   "cell_type": "code",
   "execution_count": 2,
   "id": "62aaf6b0",
   "metadata": {},
   "outputs": [],
   "source": [
    "from pathlib import Path\n",
    "from model import model3"
   ]
  },
  {
   "cell_type": "code",
   "execution_count": 3,
   "id": "a31be559",
   "metadata": {},
   "outputs": [],
   "source": [
    "BATCH_SIZE = 32\n",
    "EPOCHS = 25"
   ]
  },
  {
   "cell_type": "code",
   "execution_count": 4,
   "id": "e14b0d9d",
   "metadata": {},
   "outputs": [],
   "source": [
    "### CIFAR10 dataset loading:\n",
    "### Partition data - data is already partioned from unpacking here:\n",
    "(x_train, y_train), (x_test, y_test) = datasets.cifar10.load_data()"
   ]
  },
  {
   "cell_type": "code",
   "execution_count": 5,
   "id": "dd917c36",
   "metadata": {},
   "outputs": [],
   "source": [
    "input_shape = (32,32,3) # get 1st sample's shape."
   ]
  },
  {
   "cell_type": "code",
   "execution_count": 6,
   "id": "c78c1c9c",
   "metadata": {},
   "outputs": [
    {
     "name": "stdout",
     "output_type": "stream",
     "text": [
      "x_train shape = (50000, 32, 32, 3)\n",
      "y_train shape = (50000, 1)\n",
      "x_test shape = (10000, 32, 32, 3)\n",
      "y_test shape = (10000, 1)\n"
     ]
    }
   ],
   "source": [
    "# Check shape of each partition. Each img is 32x32x3. 50000 in training set, 10000 in test set.\n",
    "print(\"x_train shape = \" + str(np.shape(x_train)))\n",
    "print(\"y_train shape = \" + str(np.shape(y_train)))\n",
    "print(\"x_test shape = \" + str(np.shape(x_test)))\n",
    "print(\"y_test shape = \" + str(np.shape(y_test)))"
   ]
  },
  {
   "cell_type": "code",
   "execution_count": 33,
   "id": "b5b33654",
   "metadata": {},
   "outputs": [],
   "source": [
    "from model3 import model"
   ]
  },
  {
   "cell_type": "code",
   "execution_count": 34,
   "id": "45f8009a",
   "metadata": {},
   "outputs": [],
   "source": [
    "### Plotting function\n",
    "def plot_Acc_And_Loss(history_dict, save=True):\n",
    "\n",
    "    plt.show()"
   ]
  },
  {
   "cell_type": "code",
   "execution_count": 35,
   "id": "aebf91b6",
   "metadata": {},
   "outputs": [],
   "source": [
    "MODEL_NAME = 'model_3'"
   ]
  },
  {
   "cell_type": "code",
   "execution_count": 36,
   "id": "7a498499",
   "metadata": {},
   "outputs": [
    {
     "name": "stdout",
     "output_type": "stream",
     "text": [
      "Model: \"functional_1\"\n",
      "_________________________________________________________________\n",
      "Layer (type)                 Output Shape              Param #   \n",
      "=================================================================\n",
      "input_1 (InputLayer)         [(None, 32, 32, 3)]       0         \n",
      "_________________________________________________________________\n",
      "conv2d (Conv2D)              (None, 32, 32, 32)        896       \n",
      "_________________________________________________________________\n",
      "conv2d_1 (Conv2D)            (None, 32, 32, 32)        9248      \n",
      "_________________________________________________________________\n",
      "activation (Activation)      (None, 32, 32, 32)        0         \n",
      "_________________________________________________________________\n",
      "batch_normalization (BatchNo (None, 32, 32, 32)        128       \n",
      "_________________________________________________________________\n",
      "max_pooling2d (MaxPooling2D) (None, 16, 16, 32)        0         \n",
      "_________________________________________________________________\n",
      "dropout (Dropout)            (None, 16, 16, 32)        0         \n",
      "_________________________________________________________________\n",
      "conv2d_2 (Conv2D)            (None, 16, 16, 64)        18496     \n",
      "_________________________________________________________________\n",
      "conv2d_3 (Conv2D)            (None, 16, 16, 64)        36928     \n",
      "_________________________________________________________________\n",
      "activation_1 (Activation)    (None, 16, 16, 64)        0         \n",
      "_________________________________________________________________\n",
      "batch_normalization_1 (Batch (None, 16, 16, 64)        256       \n",
      "_________________________________________________________________\n",
      "max_pooling2d_1 (MaxPooling2 (None, 8, 8, 64)          0         \n",
      "_________________________________________________________________\n",
      "dropout_1 (Dropout)          (None, 8, 8, 64)          0         \n",
      "_________________________________________________________________\n",
      "conv2d_4 (Conv2D)            (None, 8, 8, 128)         73856     \n",
      "_________________________________________________________________\n",
      "conv2d_5 (Conv2D)            (None, 8, 8, 128)         147584    \n",
      "_________________________________________________________________\n",
      "activation_2 (Activation)    (None, 8, 8, 128)         0         \n",
      "_________________________________________________________________\n",
      "batch_normalization_2 (Batch (None, 8, 8, 128)         512       \n",
      "_________________________________________________________________\n",
      "max_pooling2d_2 (MaxPooling2 (None, 4, 4, 128)         0         \n",
      "_________________________________________________________________\n",
      "dropout_2 (Dropout)          (None, 4, 4, 128)         0         \n",
      "_________________________________________________________________\n",
      "conv2d_6 (Conv2D)            (None, 4, 4, 256)         295168    \n",
      "_________________________________________________________________\n",
      "conv2d_7 (Conv2D)            (None, 4, 4, 256)         590080    \n",
      "_________________________________________________________________\n",
      "activation_3 (Activation)    (None, 4, 4, 256)         0         \n",
      "_________________________________________________________________\n",
      "batch_normalization_3 (Batch (None, 4, 4, 256)         1024      \n",
      "_________________________________________________________________\n",
      "max_pooling2d_3 (MaxPooling2 (None, 2, 2, 256)         0         \n",
      "_________________________________________________________________\n",
      "dropout_3 (Dropout)          (None, 2, 2, 256)         0         \n",
      "_________________________________________________________________\n",
      "flatten (Flatten)            (None, 1024)              0         \n",
      "_________________________________________________________________\n",
      "dense (Dense)                (None, 64)                65600     \n",
      "_________________________________________________________________\n",
      "dropout_4 (Dropout)          (None, 64)                0         \n",
      "_________________________________________________________________\n",
      "dense_1 (Dense)              (None, 32)                2080      \n",
      "_________________________________________________________________\n",
      "dropout_5 (Dropout)          (None, 32)                0         \n",
      "_________________________________________________________________\n",
      "dense_2 (Dense)              (None, 10)                330       \n",
      "=================================================================\n",
      "Total params: 1,242,186\n",
      "Trainable params: 1,241,226\n",
      "Non-trainable params: 960\n",
      "_________________________________________________________________\n"
     ]
    }
   ],
   "source": [
    "### Compile a model.\n",
    "model = model(input_shape)\n",
    "opt = Adam(learning_rate=.0001)\n",
    "loss = tf.keras.losses.SparseCategoricalCrossentropy(from_logits=True)\n",
    "loss = tf.keras.losses.SparseCategoricalCrossentropy()\n",
    "metrics=['accuracy']\n",
    "model.compile(optimizer=opt, loss=loss, metrics=metrics)\n",
    "model.summary()"
   ]
  },
  {
   "cell_type": "code",
   "execution_count": 42,
   "id": "dcaef0a4",
   "metadata": {},
   "outputs": [
    {
     "name": "stdout",
     "output_type": "stream",
     "text": [
      "Epoch 1/25\n",
      "1563/1563 [==============================] - 161s 103ms/step - loss: 2.3129 - accuracy: 0.1367 - val_loss: 2.1201 - val_accuracy: 0.2354\n",
      "Epoch 2/25\n",
      "1563/1563 [==============================] - 159s 102ms/step - loss: 2.1843 - accuracy: 0.1803 - val_loss: 1.9198 - val_accuracy: 0.2946\n",
      "Epoch 3/25\n",
      "1563/1563 [==============================] - 157s 101ms/step - loss: 2.0460 - accuracy: 0.2400 - val_loss: 1.6921 - val_accuracy: 0.3591\n",
      "Epoch 4/25\n",
      "1563/1563 [==============================] - 158s 101ms/step - loss: 1.9075 - accuracy: 0.2860 - val_loss: 1.5821 - val_accuracy: 0.4133\n",
      "Epoch 5/25\n",
      "1563/1563 [==============================] - 156s 100ms/step - loss: 1.7750 - accuracy: 0.3352 - val_loss: 1.4480 - val_accuracy: 0.4942\n",
      "Epoch 6/25\n",
      "1563/1563 [==============================] - 159s 102ms/step - loss: 1.6642 - accuracy: 0.3880 - val_loss: 1.3958 - val_accuracy: 0.4980\n",
      "Epoch 7/25\n",
      "1563/1563 [==============================] - 168s 107ms/step - loss: 1.5671 - accuracy: 0.4379 - val_loss: 1.2178 - val_accuracy: 0.5936\n",
      "Epoch 8/25\n",
      "1563/1563 [==============================] - 185s 118ms/step - loss: 1.4858 - accuracy: 0.4743 - val_loss: 1.3166 - val_accuracy: 0.5782\n",
      "Epoch 9/25\n",
      "1563/1563 [==============================] - 187s 119ms/step - loss: 1.4140 - accuracy: 0.5063 - val_loss: 1.4372 - val_accuracy: 0.5467\n",
      "Epoch 10/25\n",
      "1563/1563 [==============================] - 174s 111ms/step - loss: 1.3607 - accuracy: 0.5315 - val_loss: 1.0884 - val_accuracy: 0.6436\n",
      "Epoch 11/25\n",
      "1563/1563 [==============================] - 176s 113ms/step - loss: 1.3113 - accuracy: 0.5536 - val_loss: 1.1059 - val_accuracy: 0.6335\n",
      "Epoch 12/25\n",
      "1563/1563 [==============================] - 171s 109ms/step - loss: 1.2612 - accuracy: 0.5702 - val_loss: 0.9792 - val_accuracy: 0.6644\n",
      "Epoch 13/25\n",
      "1563/1563 [==============================] - 167s 107ms/step - loss: 1.2278 - accuracy: 0.5888 - val_loss: 0.9973 - val_accuracy: 0.6812\n",
      "Epoch 14/25\n",
      "1563/1563 [==============================] - 174s 111ms/step - loss: 1.1843 - accuracy: 0.6035 - val_loss: 0.9883 - val_accuracy: 0.6798\n",
      "Epoch 15/25\n",
      "1563/1563 [==============================] - 177s 113ms/step - loss: 1.1549 - accuracy: 0.6149 - val_loss: 0.9745 - val_accuracy: 0.6583\n",
      "Epoch 16/25\n",
      "1563/1563 [==============================] - 175s 112ms/step - loss: 1.1260 - accuracy: 0.6245 - val_loss: 0.8751 - val_accuracy: 0.6996\n",
      "Epoch 17/25\n",
      "1563/1563 [==============================] - 173s 111ms/step - loss: 1.0894 - accuracy: 0.6340 - val_loss: 0.8787 - val_accuracy: 0.7115\n",
      "Epoch 18/25\n",
      "1563/1563 [==============================] - 179s 115ms/step - loss: 1.0674 - accuracy: 0.6446 - val_loss: 0.8319 - val_accuracy: 0.7197\n",
      "Epoch 19/25\n",
      "1563/1563 [==============================] - 174s 111ms/step - loss: 1.0411 - accuracy: 0.6519 - val_loss: 0.8268 - val_accuracy: 0.7177\n",
      "Epoch 20/25\n",
      "1563/1563 [==============================] - 178s 114ms/step - loss: 1.0157 - accuracy: 0.6611 - val_loss: 0.8656 - val_accuracy: 0.7146\n",
      "Epoch 21/25\n",
      "1563/1563 [==============================] - 175s 112ms/step - loss: 1.0035 - accuracy: 0.6669 - val_loss: 0.8073 - val_accuracy: 0.7325\n",
      "Epoch 22/25\n",
      "1563/1563 [==============================] - 177s 113ms/step - loss: 0.9767 - accuracy: 0.6748 - val_loss: 0.7734 - val_accuracy: 0.7425\n",
      "Epoch 23/25\n",
      "1563/1563 [==============================] - 177s 113ms/step - loss: 0.9589 - accuracy: 0.6841 - val_loss: 0.7987 - val_accuracy: 0.7428\n",
      "Epoch 24/25\n",
      "1563/1563 [==============================] - 172s 110ms/step - loss: 0.9526 - accuracy: 0.6840 - val_loss: 0.8051 - val_accuracy: 0.7467\n",
      "Epoch 25/25\n",
      "1563/1563 [==============================] - 173s 110ms/step - loss: 0.9273 - accuracy: 0.6917 - val_loss: 0.7569 - val_accuracy: 0.7563\n"
     ]
    }
   ],
   "source": [
    "model_history = model.fit(x=x_train, y=y_train, epochs=EPOCHS, validation_data=(x_test, y_test))"
   ]
  },
  {
   "cell_type": "code",
   "execution_count": 43,
   "id": "734642cc",
   "metadata": {},
   "outputs": [
    {
     "name": "stdout",
     "output_type": "stream",
     "text": [
      "\n",
      "Evaluating model...\n",
      "\n",
      "313/313 - 5s - loss: 0.7569 - accuracy: 0.7563\n"
     ]
    }
   ],
   "source": [
    "print(\"\\nEvaluating model...\\n\")\n",
    "test_loss, test_acc = model.evaluate(x_test,  y_test, verbose=2)\n",
    "\n",
    "pred_outs = model.predict(x_test)\n",
    "\n",
    "pred_labels = np.argmax(pred_outs,axis=1)\n",
    "pred_labels = np.argmax(pred_outs,axis=1)\n"
   ]
  },
  {
   "cell_type": "code",
   "execution_count": 49,
   "id": "2a2b81f2",
   "metadata": {},
   "outputs": [
    {
     "name": "stdout",
     "output_type": "stream",
     "text": [
      "0.7562999725341797\n"
     ]
    }
   ],
   "source": [
    "print(test_acc)"
   ]
  },
  {
   "cell_type": "code",
   "execution_count": 50,
   "id": "a4d83a3f",
   "metadata": {},
   "outputs": [
    {
     "name": "stdout",
     "output_type": "stream",
     "text": [
      "0.7568515539169312\n"
     ]
    }
   ],
   "source": [
    "print(test_loss)"
   ]
  },
  {
   "cell_type": "code",
   "execution_count": 51,
   "id": "2621ea86",
   "metadata": {},
   "outputs": [
    {
     "data": {
      "text/plain": [
       "<matplotlib.legend.Legend at 0x12a190911c0>"
      ]
     },
     "execution_count": 51,
     "metadata": {},
     "output_type": "execute_result"
    },
    {
     "data": {
      "image/png": "[encoded data removed]",
      "text/plain": [
       "<Figure size 432x288 with 1 Axes>"
      ]
     },
     "metadata": {
      "needs_background": "light"
     },
     "output_type": "display_data"
    }
   ],
   "source": [
    "plt.plot(model_history.history['accuracy'], label='accuracy')\n",
    "plt.plot(model_history.history['val_accuracy'], label = 'val_accuracy')\n",
    "plt.xlabel('Epoch')\n",
    "plt.ylabel('Accuracy')\n",
    "plt.ylim([0.5, 1])\n",
    "plt.legend(loc='lower right')"
   ]
  },
  {
   "cell_type": "code",
   "execution_count": null,
   "id": "a61c4428",
   "metadata": {},
   "outputs": [],
   "source": []
  }
 ],
 "metadata": {
  "kernelspec": {
   "display_name": "Python 3 (ipykernel)",
   "language": "python",
   "name": "python3"
  },
  "language_info": {
   "codemirror_mode": {
    "name": "ipython",
    "version": 3
   },
   "file_extension": ".py",
   "mimetype": "text/x-python",
   "name": "python",
   "nbconvert_exporter": "python",
   "pygments_lexer": "ipython3",
   "version": "3.8.12"
  }
 },
 "nbformat": 4,
 "nbformat_minor": 5
}
