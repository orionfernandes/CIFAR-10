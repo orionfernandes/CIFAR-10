{
 "cells": [
  {
   "cell_type": "code",
   "execution_count": 2,
   "id": "db0c9f13",
   "metadata": {},
   "outputs": [],
   "source": [
    "from tensorflow.keras import datasets, layers, models\n",
    "from tensorflow.keras.optimizers import Adam\n",
    "from keras.callbacks import CSVLogger, ModelCheckpoint\n",
    "from keras.models import load_model\n",
    "from sklearn.metrics import confusion_matrix\n",
    "import tensorflow as tf\n",
    "import matplotlib.pyplot as plt\n",
    "import numpy as np\n",
    "import pickle\n",
    "from sklearn.metrics import accuracy_score \n",
    "from sklearn.metrics import classification_report \n",
    "\n",
    "from pathlib import Path"
   ]
  },
  {
   "cell_type": "code",
   "execution_count": 4,
   "id": "7789c274",
   "metadata": {},
   "outputs": [],
   "source": [
    "### We are using model in the model_0.py file. Change this to load other models.\n",
    "from model3 import model\n",
    "###================================================================================================\n",
    "# Specify model name to save model as. eg., \"model_0\", \"model_1\", \"model_2\"\n",
    "MODEL_NAME = 'model_3'"
   ]
  },
  {
   "cell_type": "code",
   "execution_count": 7,
   "id": "3f0b58e3",
   "metadata": {},
   "outputs": [],
   "source": [
    "###================================================================================================\n",
    "### Plotting function\n",
    "def set_size(w,h, ax=None):\n",
    "    \"\"\" w, h: width, height in inches \"\"\"\n",
    "    if not ax: ax=plt.gca()\n",
    "    l = ax.figure.subplotpars.left\n",
    "    r = ax.figure.subplotpars.right\n",
    "    t = ax.figure.subplotpars.top\n",
    "    b = ax.figure.subplotpars.bottom\n",
    "    figw = float(w)/(r-l)\n",
    "    figh = float(h)/(t-b)\n",
    "    ax.figure.set_size_inches(figw, figh)\n",
    "\n",
    "def plot_Acc_And_Loss2(history_dict, save=True):\n",
    "    \"\"\"\n",
    "    Plots loss and accuracy of train and val data over epochs.\n",
    "    :return:\n",
    "    \"\"\"\n",
    "    fig, axs = plt.subplots(1, 2)\n",
    "    axs[0].plot(history_dict['accuracy'])\n",
    "    axs[0].plot(history_dict['val_accuracy'])\n",
    "    axs[0].set_title('training vs validation accuracy')\n",
    "    axs[0].set_ylabel('accuracy')\n",
    "    axs[0].set_xlabel('epoch')\n",
    "    axs[0].legend(['train', 'val'], loc='upper left')\n",
    "    axs[0].grid(True)\n",
    "\n",
    "    axs[1].plot(history_dict['loss'])\n",
    "    axs[1].plot(history_dict['val_loss'])\n",
    "    axs[1].set_title('training vs validation loss')\n",
    "    axs[1].set_ylabel('loss')\n",
    "    axs[1].set_xlabel('epoch')\n",
    "    axs[1].legend(['train', 'val'], loc='upper left')\n",
    "    axs[1].grid(True)\n",
    "    set_size(8,4)\n",
    "    if save: plt.savefig('model_logs/'+MODEL_NAME+'_logs/'+MODEL_NAME+\"_loss.png\")\n",
    "    plt.show()"
   ]
  },
  {
   "cell_type": "code",
   "execution_count": 8,
   "id": "b0d007f6",
   "metadata": {},
   "outputs": [
    {
     "name": "stdout",
     "output_type": "stream",
     "text": [
      "x_train shape = (50000, 32, 32, 3)\n",
      "y_train shape = (50000, 1)\n",
      "x_test shape = (10000, 32, 32, 3)\n",
      "y_test shape = (10000, 1)\n"
     ]
    }
   ],
   "source": [
    "###================================================================================================\n",
    "BATCH_SIZE = 32\n",
    "EPOCHS = 25\n",
    "\n",
    "### CIFAR10 dataset loading:\n",
    "### Partition data - data is already partioned from unpacking here:\n",
    "(x_train, y_train), (x_test, y_test) = datasets.cifar10.load_data()\n",
    "input_shape = (32,32,3) # get 1st sample's shape.\n",
    "\n",
    "# Check shape of each partition. Each img is 32x32x3. 50000 in training set, 10000 in test set.\n",
    "print(\"x_train shape = \" + str(np.shape(x_train)))\n",
    "print(\"y_train shape = \" + str(np.shape(y_train)))\n",
    "print(\"x_test shape = \" + str(np.shape(x_test)))\n",
    "print(\"y_test shape = \" + str(np.shape(y_test)))"
   ]
  },
  {
   "cell_type": "code",
   "execution_count": 9,
   "id": "7cb38736",
   "metadata": {},
   "outputs": [],
   "source": [
    "model = load_model(\"model/model_3\")"
   ]
  },
  {
   "cell_type": "code",
   "execution_count": 10,
   "id": "caca8683",
   "metadata": {},
   "outputs": [
    {
     "name": "stdout",
     "output_type": "stream",
     "text": [
      "\n",
      "Evaluating model...\n",
      "\n",
      "313/313 - 7s - loss: 0.5389 - accuracy: 0.0943\n"
     ]
    }
   ],
   "source": [
    "###================================================================================================\n",
    "### Evaluate model.\n",
    "print(\"\\nEvaluating model...\\n\")\n",
    "test_loss, test_acc = model.evaluate(x_test,  y_test, verbose=2)\n",
    "\n",
    "pred_outs = model.predict(x_test)\n",
    "\n",
    "pred_labels = np.argmax(pred_outs,axis=1)"
   ]
  },
  {
   "cell_type": "code",
   "execution_count": 11,
   "id": "9f270beb",
   "metadata": {},
   "outputs": [
    {
     "data": {
      "image/png": "[encoded data removed]",
      "text/plain": [
       "<Figure size 288x288 with 2 Axes>"
      ]
     },
     "metadata": {
      "needs_background": "light"
     },
     "output_type": "display_data"
    }
   ],
   "source": [
    "mat = confusion_matrix(y_test, pred_labels)\n",
    "plt.matshow(mat)\n",
    "plt.title(\"Confusion matrix\")\n",
    "plt.ylabel(\"True label\")\n",
    "plt.xlabel(\"Predicted label\")\n",
    "plt.colorbar()\n",
    "plt.show()"
   ]
  },
  {
   "cell_type": "code",
   "execution_count": 12,
   "id": "84858797",
   "metadata": {},
   "outputs": [
    {
     "name": "stdout",
     "output_type": "stream",
     "text": [
      "              precision    recall  f1-score   support\n",
      "\n",
      "           0       0.87      0.82      0.85      1000\n",
      "           1       0.92      0.90      0.91      1000\n",
      "           2       0.84      0.65      0.73      1000\n",
      "           3       0.62      0.67      0.65      1000\n",
      "           4       0.75      0.86      0.80      1000\n",
      "           5       0.71      0.77      0.74      1000\n",
      "           6       0.84      0.88      0.86      1000\n",
      "           7       0.93      0.80      0.86      1000\n",
      "           8       0.92      0.89      0.90      1000\n",
      "           9       0.82      0.93      0.87      1000\n",
      "\n",
      "    accuracy                           0.82     10000\n",
      "   macro avg       0.82      0.82      0.82     10000\n",
      "weighted avg       0.82      0.82      0.82     10000\n",
      "\n",
      "Accuracy score 0.8162\n"
     ]
    }
   ],
   "source": [
    "print(classification_report(y_test, pred_labels))\n",
    "print(\"Accuracy score \" + str(accuracy_score(y_test, pred_labels)))"
   ]
  },
  {
   "cell_type": "code",
   "execution_count": null,
   "id": "dd0b0f9e",
   "metadata": {},
   "outputs": [],
   "source": []
  }
 ],
 "metadata": {
  "kernelspec": {
   "display_name": "Python 3 (ipykernel)",
   "language": "python",
   "name": "python3"
  },
  "language_info": {
   "codemirror_mode": {
    "name": "ipython",
    "version": 3
   },
   "file_extension": ".py",
   "mimetype": "text/x-python",
   "name": "python",
   "nbconvert_exporter": "python",
   "pygments_lexer": "ipython3",
   "version": "3.8.12"
  }
 },
 "nbformat": 4,
 "nbformat_minor": 5
}
