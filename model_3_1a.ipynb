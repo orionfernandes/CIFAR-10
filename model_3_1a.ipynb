{
 "cells": [
  {
   "cell_type": "code",
   "execution_count": 1,
   "id": "290911e2",
   "metadata": {},
   "outputs": [],
   "source": [
    "from tensorflow.keras import datasets, layers, models\n",
    "from tensorflow.keras.optimizers import Adam\n",
    "from keras.callbacks import CSVLogger, ModelCheckpoint\n",
    "from keras.models import load_model\n",
    "import tensorflow as tf\n",
    "import matplotlib.pyplot as plt\n",
    "import numpy as np\n",
    "import pickle"
   ]
  },
  {
   "cell_type": "code",
   "execution_count": 3,
   "id": "4b9d0377",
   "metadata": {},
   "outputs": [],
   "source": [
    "from pathlib import Path\n",
    "from model_3_1a import model"
   ]
  },
  {
   "cell_type": "code",
   "execution_count": 4,
   "id": "d22dcdd2",
   "metadata": {},
   "outputs": [],
   "source": [
    "BATCH_SIZE = 32\n",
    "EPOCHS = 25"
   ]
  },
  {
   "cell_type": "code",
   "execution_count": 5,
   "id": "4967117b",
   "metadata": {},
   "outputs": [],
   "source": [
    "### CIFAR10 dataset loading:\n",
    "### Partition data - data is already partioned from unpacking here:\n",
    "(x_train, y_train), (x_test, y_test) = datasets.cifar10.load_data()"
   ]
  },
  {
   "cell_type": "code",
   "execution_count": 6,
   "id": "fc7fd9a6",
   "metadata": {},
   "outputs": [],
   "source": [
    "input_shape = (32,32,3) # get 1st sample's shape."
   ]
  },
  {
   "cell_type": "code",
   "execution_count": 7,
   "id": "6a48e9ba",
   "metadata": {},
   "outputs": [
    {
     "name": "stdout",
     "output_type": "stream",
     "text": [
      "x_train shape = (50000, 32, 32, 3)\n",
      "y_train shape = (50000, 1)\n",
      "x_test shape = (10000, 32, 32, 3)\n",
      "y_test shape = (10000, 1)\n"
     ]
    }
   ],
   "source": [
    "# Check shape of each partition. Each img is 32x32x3. 50000 in training set, 10000 in test set.\n",
    "print(\"x_train shape = \" + str(np.shape(x_train)))\n",
    "print(\"y_train shape = \" + str(np.shape(y_train)))\n",
    "print(\"x_test shape = \" + str(np.shape(x_test)))\n",
    "print(\"y_test shape = \" + str(np.shape(y_test)))"
   ]
  },
  {
   "cell_type": "code",
   "execution_count": 9,
   "id": "114634b3",
   "metadata": {},
   "outputs": [],
   "source": [
    "from model_3_1a import model"
   ]
  },
  {
   "cell_type": "code",
   "execution_count": 10,
   "id": "92540846",
   "metadata": {},
   "outputs": [],
   "source": [
    "### Plotting function\n",
    "def plot_Acc_And_Loss(history_dict, save=True):\n",
    "\n",
    "    plt.show()\n"
   ]
  },
  {
   "cell_type": "code",
   "execution_count": 11,
   "id": "df486d15",
   "metadata": {},
   "outputs": [],
   "source": [
    "MODEL_NAME = 'model_3_1a'"
   ]
  },
  {
   "cell_type": "code",
   "execution_count": 12,
   "id": "883dfc3d",
   "metadata": {},
   "outputs": [
    {
     "name": "stdout",
     "output_type": "stream",
     "text": [
      "Model: \"functional_1\"\n",
      "_________________________________________________________________\n",
      "Layer (type)                 Output Shape              Param #   \n",
      "=================================================================\n",
      "input_1 (InputLayer)         [(None, 32, 32, 3)]       0         \n",
      "_________________________________________________________________\n",
      "conv2d (Conv2D)              (None, 32, 32, 32)        896       \n",
      "_________________________________________________________________\n",
      "conv2d_1 (Conv2D)            (None, 32, 32, 32)        9248      \n",
      "_________________________________________________________________\n",
      "batch_normalization (BatchNo (None, 32, 32, 32)        128       \n",
      "_________________________________________________________________\n",
      "activation (Activation)      (None, 32, 32, 32)        0         \n",
      "_________________________________________________________________\n",
      "max_pooling2d (MaxPooling2D) (None, 16, 16, 32)        0         \n",
      "_________________________________________________________________\n",
      "dropout (Dropout)            (None, 16, 16, 32)        0         \n",
      "_________________________________________________________________\n",
      "conv2d_2 (Conv2D)            (None, 16, 16, 64)        18496     \n",
      "_________________________________________________________________\n",
      "conv2d_3 (Conv2D)            (None, 16, 16, 64)        36928     \n",
      "_________________________________________________________________\n",
      "batch_normalization_1 (Batch (None, 16, 16, 64)        256       \n",
      "_________________________________________________________________\n",
      "activation_1 (Activation)    (None, 16, 16, 64)        0         \n",
      "_________________________________________________________________\n",
      "max_pooling2d_1 (MaxPooling2 (None, 8, 8, 64)          0         \n",
      "_________________________________________________________________\n",
      "dropout_1 (Dropout)          (None, 8, 8, 64)          0         \n",
      "_________________________________________________________________\n",
      "conv2d_4 (Conv2D)            (None, 8, 8, 128)         73856     \n",
      "_________________________________________________________________\n",
      "conv2d_5 (Conv2D)            (None, 8, 8, 128)         147584    \n",
      "_________________________________________________________________\n",
      "batch_normalization_2 (Batch (None, 8, 8, 128)         512       \n",
      "_________________________________________________________________\n",
      "activation_2 (Activation)    (None, 8, 8, 128)         0         \n",
      "_________________________________________________________________\n",
      "max_pooling2d_2 (MaxPooling2 (None, 4, 4, 128)         0         \n",
      "_________________________________________________________________\n",
      "dropout_2 (Dropout)          (None, 4, 4, 128)         0         \n",
      "_________________________________________________________________\n",
      "conv2d_6 (Conv2D)            (None, 4, 4, 256)         295168    \n",
      "_________________________________________________________________\n",
      "conv2d_7 (Conv2D)            (None, 4, 4, 256)         590080    \n",
      "_________________________________________________________________\n",
      "batch_normalization_3 (Batch (None, 4, 4, 256)         1024      \n",
      "_________________________________________________________________\n",
      "activation_3 (Activation)    (None, 4, 4, 256)         0         \n",
      "_________________________________________________________________\n",
      "max_pooling2d_3 (MaxPooling2 (None, 2, 2, 256)         0         \n",
      "_________________________________________________________________\n",
      "dropout_3 (Dropout)          (None, 2, 2, 256)         0         \n",
      "_________________________________________________________________\n",
      "flatten (Flatten)            (None, 1024)              0         \n",
      "_________________________________________________________________\n",
      "dense (Dense)                (None, 512)               524800    \n",
      "_________________________________________________________________\n",
      "dropout_4 (Dropout)          (None, 512)               0         \n",
      "_________________________________________________________________\n",
      "dense_1 (Dense)              (None, 256)               131328    \n",
      "_________________________________________________________________\n",
      "dropout_5 (Dropout)          (None, 256)               0         \n",
      "_________________________________________________________________\n",
      "dense_2 (Dense)              (None, 10)                2570      \n",
      "=================================================================\n",
      "Total params: 1,832,874\n",
      "Trainable params: 1,831,914\n",
      "Non-trainable params: 960\n",
      "_________________________________________________________________\n"
     ]
    }
   ],
   "source": [
    "### Compile a model.\n",
    "model = model(input_shape)\n",
    "opt = Adam(learning_rate=.0001)\n",
    "loss = tf.keras.losses.SparseCategoricalCrossentropy(from_logits=True)\n",
    "loss = tf.keras.losses.SparseCategoricalCrossentropy()\n",
    "metrics=['accuracy']\n",
    "model.compile(optimizer=opt, loss=loss, metrics=metrics)\n",
    "model.summary()"
   ]
  },
  {
   "cell_type": "code",
   "execution_count": 13,
   "id": "1d8ecb04",
   "metadata": {},
   "outputs": [
    {
     "name": "stdout",
     "output_type": "stream",
     "text": [
      "Epoch 1/25\n",
      "1563/1563 [==============================] - 194s 124ms/step - loss: 2.0555 - accuracy: 0.2461 - val_loss: 1.8160 - val_accuracy: 0.3574\n",
      "Epoch 2/25\n",
      "1563/1563 [==============================] - 186s 119ms/step - loss: 1.6540 - accuracy: 0.3906 - val_loss: 1.4413 - val_accuracy: 0.4760\n",
      "Epoch 3/25\n",
      "1563/1563 [==============================] - 174s 111ms/step - loss: 1.4334 - accuracy: 0.4821 - val_loss: 1.7951 - val_accuracy: 0.4102\n",
      "Epoch 4/25\n",
      "1563/1563 [==============================] - 176s 112ms/step - loss: 1.2817 - accuracy: 0.5443 - val_loss: 1.4367 - val_accuracy: 0.4998\n",
      "Epoch 5/25\n",
      "1563/1563 [==============================] - 173s 111ms/step - loss: 1.1705 - accuracy: 0.5911 - val_loss: 1.1022 - val_accuracy: 0.6158\n",
      "Epoch 6/25\n",
      "1563/1563 [==============================] - 179s 115ms/step - loss: 1.0830 - accuracy: 0.6269 - val_loss: 0.9183 - val_accuracy: 0.6832\n",
      "Epoch 7/25\n",
      "1563/1563 [==============================] - 168s 108ms/step - loss: 1.0152 - accuracy: 0.6493 - val_loss: 0.8416 - val_accuracy: 0.7113\n",
      "Epoch 8/25\n",
      "1563/1563 [==============================] - 176s 113ms/step - loss: 0.9567 - accuracy: 0.6702 - val_loss: 0.8772 - val_accuracy: 0.7026\n",
      "Epoch 9/25\n",
      "1563/1563 [==============================] - 184s 118ms/step - loss: 0.9026 - accuracy: 0.6906 - val_loss: 0.8323 - val_accuracy: 0.7236\n",
      "Epoch 10/25\n",
      "1563/1563 [==============================] - 171s 110ms/step - loss: 0.8641 - accuracy: 0.7082 - val_loss: 0.7460 - val_accuracy: 0.7476\n",
      "Epoch 11/25\n",
      "1563/1563 [==============================] - 183s 117ms/step - loss: 0.8268 - accuracy: 0.7192 - val_loss: 0.6903 - val_accuracy: 0.7700\n",
      "Epoch 12/25\n",
      "1563/1563 [==============================] - 165s 105ms/step - loss: 0.7955 - accuracy: 0.7328 - val_loss: 0.7262 - val_accuracy: 0.7544\n",
      "Epoch 13/25\n",
      "1563/1563 [==============================] - 164s 105ms/step - loss: 0.7714 - accuracy: 0.7391 - val_loss: 0.7037 - val_accuracy: 0.7553\n",
      "Epoch 14/25\n",
      "1563/1563 [==============================] - 162s 104ms/step - loss: 0.7406 - accuracy: 0.7496 - val_loss: 0.7327 - val_accuracy: 0.7482\n",
      "Epoch 15/25\n",
      "1563/1563 [==============================] - 164s 105ms/step - loss: 0.7233 - accuracy: 0.7568 - val_loss: 0.6827 - val_accuracy: 0.7644\n",
      "Epoch 16/25\n",
      "1563/1563 [==============================] - 168s 107ms/step - loss: 0.7033 - accuracy: 0.7632 - val_loss: 0.6874 - val_accuracy: 0.7618\n",
      "Epoch 17/25\n",
      "1563/1563 [==============================] - 166s 106ms/step - loss: 0.6823 - accuracy: 0.7692 - val_loss: 0.6608 - val_accuracy: 0.7761\n",
      "Epoch 18/25\n",
      "1563/1563 [==============================] - 165s 105ms/step - loss: 0.6665 - accuracy: 0.7749 - val_loss: 0.6167 - val_accuracy: 0.7889\n",
      "Epoch 19/25\n",
      "1563/1563 [==============================] - 166s 106ms/step - loss: 0.6442 - accuracy: 0.7815 - val_loss: 0.6522 - val_accuracy: 0.7766\n",
      "Epoch 20/25\n",
      "1563/1563 [==============================] - 164s 105ms/step - loss: 0.6338 - accuracy: 0.7867 - val_loss: 0.6068 - val_accuracy: 0.7930\n",
      "Epoch 21/25\n",
      "1563/1563 [==============================] - 164s 105ms/step - loss: 0.6208 - accuracy: 0.7918 - val_loss: 0.5571 - val_accuracy: 0.8143\n",
      "Epoch 22/25\n",
      "1563/1563 [==============================] - 164s 105ms/step - loss: 0.6096 - accuracy: 0.7973 - val_loss: 0.5695 - val_accuracy: 0.8048\n",
      "Epoch 23/25\n",
      "1563/1563 [==============================] - 168s 107ms/step - loss: 0.5967 - accuracy: 0.8016 - val_loss: 0.5807 - val_accuracy: 0.8016\n",
      "Epoch 24/25\n",
      "1563/1563 [==============================] - 169s 108ms/step - loss: 0.5796 - accuracy: 0.8060 - val_loss: 0.5748 - val_accuracy: 0.8014\n",
      "Epoch 25/25\n",
      "1563/1563 [==============================] - 166s 106ms/step - loss: 0.5719 - accuracy: 0.8074 - val_loss: 0.5365 - val_accuracy: 0.8205\n"
     ]
    }
   ],
   "source": [
    "model_history = model.fit(x=x_train, y=y_train, epochs=EPOCHS, validation_data=(x_test, y_test))"
   ]
  },
  {
   "cell_type": "code",
   "execution_count": 14,
   "id": "b9be4e3f",
   "metadata": {},
   "outputs": [
    {
     "name": "stdout",
     "output_type": "stream",
     "text": [
      "313/313 - 5s - loss: 0.5365 - accuracy: 0.8205\n"
     ]
    }
   ],
   "source": [
    "test_loss, test_acc = model.evaluate(x_test,  y_test, verbose=2)\n",
    "\n",
    "pred_outs = model.predict(x_test)\n",
    "\n",
    "pred_labels = np.argmax(pred_outs,axis=1)\n",
    "pred_labels = np.argmax(pred_outs,axis=1)"
   ]
  },
  {
   "cell_type": "code",
   "execution_count": 15,
   "id": "4f921c18",
   "metadata": {},
   "outputs": [
    {
     "name": "stdout",
     "output_type": "stream",
     "text": [
      "0.8205000162124634\n"
     ]
    }
   ],
   "source": [
    "print(test_acc)"
   ]
  },
  {
   "cell_type": "code",
   "execution_count": 16,
   "id": "2233d3ce",
   "metadata": {},
   "outputs": [
    {
     "name": "stdout",
     "output_type": "stream",
     "text": [
      "0.536491334438324\n"
     ]
    }
   ],
   "source": [
    "print(test_loss)"
   ]
  },
  {
   "cell_type": "code",
   "execution_count": 17,
   "id": "57138d84",
   "metadata": {},
   "outputs": [
    {
     "data": {
      "text/plain": [
       "<matplotlib.legend.Legend at 0x28cb7608f10>"
      ]
     },
     "execution_count": 17,
     "metadata": {},
     "output_type": "execute_result"
    },
    {
     "data": {
      "image/png": "[encoded data removed]",
      "text/plain": [
       "<Figure size 432x288 with 1 Axes>"
      ]
     },
     "metadata": {
      "needs_background": "light"
     },
     "output_type": "display_data"
    }
   ],
   "source": [
    "plt.plot(model_history.history['accuracy'], label='accuracy')\n",
    "plt.plot(model_history.history['val_accuracy'], label = 'val_accuracy')\n",
    "plt.xlabel('Epoch')\n",
    "plt.ylabel('Accuracy')\n",
    "plt.ylim([0.5, 1])\n",
    "plt.legend(loc='lower right')"
   ]
  },
  {
   "cell_type": "code",
   "execution_count": null,
   "id": "31acee56",
   "metadata": {},
   "outputs": [],
   "source": []
  }
 ],
 "metadata": {
  "kernelspec": {
   "display_name": "Python 3 (ipykernel)",
   "language": "python",
   "name": "python3"
  },
  "language_info": {
   "codemirror_mode": {
    "name": "ipython",
    "version": 3
   },
   "file_extension": ".py",
   "mimetype": "text/x-python",
   "name": "python",
   "nbconvert_exporter": "python",
   "pygments_lexer": "ipython3",
   "version": "3.8.12"
  }
 },
 "nbformat": 4,
 "nbformat_minor": 5
}
